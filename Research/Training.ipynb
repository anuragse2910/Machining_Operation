{
 "cells": [
  {
   "cell_type": "code",
   "execution_count": 1,
   "metadata": {},
   "outputs": [],
   "source": [
    "# Importing requires libraries\n",
    "import pandas as pd\n",
    "import numpy as np\n",
    "from sklearn.model_selection import train_test_split, GridSearchCV, cross_val_score\n",
    "from sklearn.preprocessing import StandardScaler\n",
    "from sklearn.linear_model import LogisticRegression\n",
    "from sklearn.tree import DecisionTreeClassifier\n",
    "from sklearn.ensemble import RandomForestClassifier\n",
    "from sklearn.multioutput import MultiOutputClassifier\n",
    "from xgboost import XGBClassifier\n",
    "import xgboost as xgb\n",
    "from sklearn.metrics import accuracy_score, classification_report, confusion_matrix"
   ]
  },
  {
   "cell_type": "code",
   "execution_count": 124,
   "metadata": {},
   "outputs": [
    {
     "data": {
      "text/html": [
       "<div>\n",
       "<style scoped>\n",
       "    .dataframe tbody tr th:only-of-type {\n",
       "        vertical-align: middle;\n",
       "    }\n",
       "\n",
       "    .dataframe tbody tr th {\n",
       "        vertical-align: top;\n",
       "    }\n",
       "\n",
       "    .dataframe thead th {\n",
       "        text-align: right;\n",
       "    }\n",
       "</style>\n",
       "<table border=\"1\" class=\"dataframe\">\n",
       "  <thead>\n",
       "    <tr style=\"text-align: right;\">\n",
       "      <th></th>\n",
       "      <th>Material Type</th>\n",
       "      <th>Material Hardness Number</th>\n",
       "      <th>Desity</th>\n",
       "      <th>Poissons Ratio</th>\n",
       "      <th>Length</th>\n",
       "      <th>Depth</th>\n",
       "      <th>Width</th>\n",
       "      <th>Tolerance</th>\n",
       "      <th>Surface finish</th>\n",
       "      <th>End Milling-Rough operation</th>\n",
       "      <th>End Milling-Semi finish operation</th>\n",
       "      <th>End Milling-Finish operation</th>\n",
       "    </tr>\n",
       "  </thead>\n",
       "  <tbody>\n",
       "    <tr>\n",
       "      <th>0</th>\n",
       "      <td>Aluminum Alloy</td>\n",
       "      <td>35.45</td>\n",
       "      <td>2870</td>\n",
       "      <td>0.26</td>\n",
       "      <td>85.2</td>\n",
       "      <td>9.1</td>\n",
       "      <td>20.4</td>\n",
       "      <td>0.221</td>\n",
       "      <td>0.0191</td>\n",
       "      <td>1</td>\n",
       "      <td>0</td>\n",
       "      <td>0</td>\n",
       "    </tr>\n",
       "    <tr>\n",
       "      <th>1</th>\n",
       "      <td>Aluminum Alloy</td>\n",
       "      <td>35.45</td>\n",
       "      <td>2870</td>\n",
       "      <td>0.26</td>\n",
       "      <td>36.3</td>\n",
       "      <td>7.3</td>\n",
       "      <td>58.9</td>\n",
       "      <td>0.420</td>\n",
       "      <td>0.0027</td>\n",
       "      <td>0</td>\n",
       "      <td>0</td>\n",
       "      <td>0</td>\n",
       "    </tr>\n",
       "    <tr>\n",
       "      <th>2</th>\n",
       "      <td>Aluminum Alloy</td>\n",
       "      <td>35.45</td>\n",
       "      <td>2870</td>\n",
       "      <td>0.26</td>\n",
       "      <td>29.4</td>\n",
       "      <td>8.0</td>\n",
       "      <td>39.3</td>\n",
       "      <td>0.533</td>\n",
       "      <td>0.0079</td>\n",
       "      <td>0</td>\n",
       "      <td>0</td>\n",
       "      <td>0</td>\n",
       "    </tr>\n",
       "    <tr>\n",
       "      <th>3</th>\n",
       "      <td>Aluminum Alloy</td>\n",
       "      <td>35.45</td>\n",
       "      <td>2870</td>\n",
       "      <td>0.26</td>\n",
       "      <td>60.4</td>\n",
       "      <td>10.3</td>\n",
       "      <td>65.0</td>\n",
       "      <td>0.275</td>\n",
       "      <td>0.0133</td>\n",
       "      <td>1</td>\n",
       "      <td>0</td>\n",
       "      <td>0</td>\n",
       "    </tr>\n",
       "    <tr>\n",
       "      <th>4</th>\n",
       "      <td>Aluminum Alloy</td>\n",
       "      <td>35.45</td>\n",
       "      <td>2870</td>\n",
       "      <td>0.26</td>\n",
       "      <td>37.5</td>\n",
       "      <td>8.5</td>\n",
       "      <td>98.5</td>\n",
       "      <td>0.153</td>\n",
       "      <td>0.0065</td>\n",
       "      <td>0</td>\n",
       "      <td>0</td>\n",
       "      <td>0</td>\n",
       "    </tr>\n",
       "  </tbody>\n",
       "</table>\n",
       "</div>"
      ],
      "text/plain": [
       "    Material Type  Material Hardness Number  Desity  Poissons Ratio  Length  \\\n",
       "0  Aluminum Alloy                     35.45    2870            0.26    85.2   \n",
       "1  Aluminum Alloy                     35.45    2870            0.26    36.3   \n",
       "2  Aluminum Alloy                     35.45    2870            0.26    29.4   \n",
       "3  Aluminum Alloy                     35.45    2870            0.26    60.4   \n",
       "4  Aluminum Alloy                     35.45    2870            0.26    37.5   \n",
       "\n",
       "   Depth  Width  Tolerance  Surface finish  End Milling-Rough operation  \\\n",
       "0    9.1   20.4      0.221          0.0191                            1   \n",
       "1    7.3   58.9      0.420          0.0027                            0   \n",
       "2    8.0   39.3      0.533          0.0079                            0   \n",
       "3   10.3   65.0      0.275          0.0133                            1   \n",
       "4    8.5   98.5      0.153          0.0065                            0   \n",
       "\n",
       "   End Milling-Semi finish operation  End Milling-Finish operation  \n",
       "0                                  0                             0  \n",
       "1                                  0                             0  \n",
       "2                                  0                             0  \n",
       "3                                  0                             0  \n",
       "4                                  0                             0  "
      ]
     },
     "execution_count": 124,
     "metadata": {},
     "output_type": "execute_result"
    }
   ],
   "source": [
    "# Load your data\n",
    "data = pd.read_csv('../Dataset/Step.csv')\n",
    "data.head()"
   ]
  },
  {
   "cell_type": "code",
   "execution_count": 125,
   "metadata": {},
   "outputs": [
    {
     "name": "stdout",
     "output_type": "stream",
     "text": [
      "<class 'pandas.core.frame.DataFrame'>\n",
      "RangeIndex: 22152 entries, 0 to 22151\n",
      "Data columns (total 12 columns):\n",
      " #   Column                             Non-Null Count  Dtype  \n",
      "---  ------                             --------------  -----  \n",
      " 0   Material Type                      22152 non-null  object \n",
      " 1   Material Hardness Number           22152 non-null  float64\n",
      " 2   Desity                             22152 non-null  int64  \n",
      " 3   Poissons Ratio                     22152 non-null  float64\n",
      " 4   Length                             22152 non-null  float64\n",
      " 5   Depth                              22152 non-null  float64\n",
      " 6   Width                              22152 non-null  float64\n",
      " 7   Tolerance                          22152 non-null  float64\n",
      " 8   Surface finish                     22152 non-null  float64\n",
      " 9   End Milling-Rough operation        22152 non-null  int64  \n",
      " 10  End Milling-Semi finish operation  22152 non-null  int64  \n",
      " 11  End Milling-Finish operation       22152 non-null  int64  \n",
      "dtypes: float64(7), int64(4), object(1)\n",
      "memory usage: 2.0+ MB\n",
      "None\n",
      "(22152, 12)\n"
     ]
    }
   ],
   "source": [
    "print(data.info())\n",
    "print(data.shape)"
   ]
  },
  {
   "cell_type": "code",
   "execution_count": 126,
   "metadata": {},
   "outputs": [
    {
     "name": "stdout",
     "output_type": "stream",
     "text": [
      "       Material Hardness Number   Desity  Poissons Ratio        Length  \\\n",
      "count              2.215200e+04  22152.0    2.215200e+04  22152.000000   \n",
      "mean               3.545000e+01   2870.0    2.600000e-01     55.420486   \n",
      "std                9.990456e-12      0.0    1.376708e-13     26.220791   \n",
      "min                3.545000e+01   2870.0    2.600000e-01     10.000000   \n",
      "25%                3.545000e+01   2870.0    2.600000e-01     32.675000   \n",
      "50%                3.545000e+01   2870.0    2.600000e-01     55.600000   \n",
      "75%                3.545000e+01   2870.0    2.600000e-01     78.100000   \n",
      "max                3.545000e+01   2870.0    2.600000e-01    101.000000   \n",
      "\n",
      "              Depth         Width     Tolerance  Surface finish  \\\n",
      "count  22152.000000  22152.000000  22152.000000    22152.000000   \n",
      "mean       8.496705     55.231808      0.276017        0.010663   \n",
      "std        1.439004     26.229493      0.157945        0.005982   \n",
      "min        6.000000     10.000000      0.003000        0.000300   \n",
      "25%        7.300000     32.300000      0.140000        0.005500   \n",
      "50%        8.500000     55.300000      0.275000        0.010600   \n",
      "75%        9.700000     77.700000      0.412000        0.015800   \n",
      "max       11.000000    101.000000      0.550000        0.021000   \n",
      "\n",
      "       End Milling-Rough operation  End Milling-Semi finish operation  \\\n",
      "count                 22152.000000                       22152.000000   \n",
      "mean                      0.449124                           0.054487   \n",
      "std                       0.497416                           0.226982   \n",
      "min                       0.000000                           0.000000   \n",
      "25%                       0.000000                           0.000000   \n",
      "50%                       0.000000                           0.000000   \n",
      "75%                       1.000000                           0.000000   \n",
      "max                       1.000000                           1.000000   \n",
      "\n",
      "       End Milling-Finish operation  \n",
      "count                  22152.000000  \n",
      "mean                       0.001806  \n",
      "std                        0.042456  \n",
      "min                        0.000000  \n",
      "25%                        0.000000  \n",
      "50%                        0.000000  \n",
      "75%                        0.000000  \n",
      "max                        1.000000  \n"
     ]
    }
   ],
   "source": [
    "print(data.describe())"
   ]
  },
  {
   "cell_type": "code",
   "execution_count": 127,
   "metadata": {},
   "outputs": [],
   "source": [
    "# Remove duplicate rows\n",
    "data = data.drop_duplicates()"
   ]
  },
  {
   "cell_type": "code",
   "execution_count": 128,
   "metadata": {},
   "outputs": [
    {
     "data": {
      "text/plain": [
       "(22152, 12)"
      ]
     },
     "execution_count": 128,
     "metadata": {},
     "output_type": "execute_result"
    }
   ],
   "source": [
    "data.shape"
   ]
  },
  {
   "cell_type": "code",
   "execution_count": 129,
   "metadata": {},
   "outputs": [],
   "source": [
    "data['Material Type'] = 1"
   ]
  },
  {
   "cell_type": "code",
   "execution_count": 130,
   "metadata": {},
   "outputs": [
    {
     "data": {
      "text/html": [
       "<div>\n",
       "<style scoped>\n",
       "    .dataframe tbody tr th:only-of-type {\n",
       "        vertical-align: middle;\n",
       "    }\n",
       "\n",
       "    .dataframe tbody tr th {\n",
       "        vertical-align: top;\n",
       "    }\n",
       "\n",
       "    .dataframe thead th {\n",
       "        text-align: right;\n",
       "    }\n",
       "</style>\n",
       "<table border=\"1\" class=\"dataframe\">\n",
       "  <thead>\n",
       "    <tr style=\"text-align: right;\">\n",
       "      <th></th>\n",
       "      <th>Material Type</th>\n",
       "      <th>Material Hardness Number</th>\n",
       "      <th>Desity</th>\n",
       "      <th>Poissons Ratio</th>\n",
       "      <th>Length</th>\n",
       "      <th>Depth</th>\n",
       "      <th>Width</th>\n",
       "      <th>Tolerance</th>\n",
       "      <th>Surface finish</th>\n",
       "      <th>End Milling-Rough operation</th>\n",
       "      <th>End Milling-Semi finish operation</th>\n",
       "      <th>End Milling-Finish operation</th>\n",
       "    </tr>\n",
       "  </thead>\n",
       "  <tbody>\n",
       "    <tr>\n",
       "      <th>0</th>\n",
       "      <td>1</td>\n",
       "      <td>35.45</td>\n",
       "      <td>2870</td>\n",
       "      <td>0.26</td>\n",
       "      <td>85.2</td>\n",
       "      <td>9.1</td>\n",
       "      <td>20.4</td>\n",
       "      <td>0.221</td>\n",
       "      <td>0.0191</td>\n",
       "      <td>1</td>\n",
       "      <td>0</td>\n",
       "      <td>0</td>\n",
       "    </tr>\n",
       "    <tr>\n",
       "      <th>1</th>\n",
       "      <td>1</td>\n",
       "      <td>35.45</td>\n",
       "      <td>2870</td>\n",
       "      <td>0.26</td>\n",
       "      <td>36.3</td>\n",
       "      <td>7.3</td>\n",
       "      <td>58.9</td>\n",
       "      <td>0.420</td>\n",
       "      <td>0.0027</td>\n",
       "      <td>0</td>\n",
       "      <td>0</td>\n",
       "      <td>0</td>\n",
       "    </tr>\n",
       "    <tr>\n",
       "      <th>2</th>\n",
       "      <td>1</td>\n",
       "      <td>35.45</td>\n",
       "      <td>2870</td>\n",
       "      <td>0.26</td>\n",
       "      <td>29.4</td>\n",
       "      <td>8.0</td>\n",
       "      <td>39.3</td>\n",
       "      <td>0.533</td>\n",
       "      <td>0.0079</td>\n",
       "      <td>0</td>\n",
       "      <td>0</td>\n",
       "      <td>0</td>\n",
       "    </tr>\n",
       "    <tr>\n",
       "      <th>3</th>\n",
       "      <td>1</td>\n",
       "      <td>35.45</td>\n",
       "      <td>2870</td>\n",
       "      <td>0.26</td>\n",
       "      <td>60.4</td>\n",
       "      <td>10.3</td>\n",
       "      <td>65.0</td>\n",
       "      <td>0.275</td>\n",
       "      <td>0.0133</td>\n",
       "      <td>1</td>\n",
       "      <td>0</td>\n",
       "      <td>0</td>\n",
       "    </tr>\n",
       "    <tr>\n",
       "      <th>4</th>\n",
       "      <td>1</td>\n",
       "      <td>35.45</td>\n",
       "      <td>2870</td>\n",
       "      <td>0.26</td>\n",
       "      <td>37.5</td>\n",
       "      <td>8.5</td>\n",
       "      <td>98.5</td>\n",
       "      <td>0.153</td>\n",
       "      <td>0.0065</td>\n",
       "      <td>0</td>\n",
       "      <td>0</td>\n",
       "      <td>0</td>\n",
       "    </tr>\n",
       "  </tbody>\n",
       "</table>\n",
       "</div>"
      ],
      "text/plain": [
       "   Material Type  Material Hardness Number  Desity  Poissons Ratio  Length  \\\n",
       "0              1                     35.45    2870            0.26    85.2   \n",
       "1              1                     35.45    2870            0.26    36.3   \n",
       "2              1                     35.45    2870            0.26    29.4   \n",
       "3              1                     35.45    2870            0.26    60.4   \n",
       "4              1                     35.45    2870            0.26    37.5   \n",
       "\n",
       "   Depth  Width  Tolerance  Surface finish  End Milling-Rough operation  \\\n",
       "0    9.1   20.4      0.221          0.0191                            1   \n",
       "1    7.3   58.9      0.420          0.0027                            0   \n",
       "2    8.0   39.3      0.533          0.0079                            0   \n",
       "3   10.3   65.0      0.275          0.0133                            1   \n",
       "4    8.5   98.5      0.153          0.0065                            0   \n",
       "\n",
       "   End Milling-Semi finish operation  End Milling-Finish operation  \n",
       "0                                  0                             0  \n",
       "1                                  0                             0  \n",
       "2                                  0                             0  \n",
       "3                                  0                             0  \n",
       "4                                  0                             0  "
      ]
     },
     "execution_count": 130,
     "metadata": {},
     "output_type": "execute_result"
    }
   ],
   "source": [
    "data.head()"
   ]
  },
  {
   "cell_type": "code",
   "execution_count": 131,
   "metadata": {},
   "outputs": [
    {
     "data": {
      "text/plain": [
       "Material Type                        0\n",
       "Material Hardness Number             0\n",
       "Desity                               0\n",
       "Poissons Ratio                       0\n",
       "Length                               0\n",
       "Depth                                0\n",
       "Width                                0\n",
       "Tolerance                            0\n",
       "Surface finish                       0\n",
       "End Milling-Rough operation          0\n",
       "End Milling-Semi finish operation    0\n",
       "End Milling-Finish operation         0\n",
       "dtype: int64"
      ]
     },
     "execution_count": 131,
     "metadata": {},
     "output_type": "execute_result"
    }
   ],
   "source": [
    "data.isnull().sum()"
   ]
  },
  {
   "cell_type": "code",
   "execution_count": 132,
   "metadata": {},
   "outputs": [
    {
     "name": "stdout",
     "output_type": "stream",
     "text": [
      "<class 'pandas.core.frame.DataFrame'>\n",
      "RangeIndex: 22152 entries, 0 to 22151\n",
      "Data columns (total 12 columns):\n",
      " #   Column                             Non-Null Count  Dtype  \n",
      "---  ------                             --------------  -----  \n",
      " 0   Material Type                      22152 non-null  int64  \n",
      " 1   Material Hardness Number           22152 non-null  float64\n",
      " 2   Desity                             22152 non-null  int64  \n",
      " 3   Poissons Ratio                     22152 non-null  float64\n",
      " 4   Length                             22152 non-null  float64\n",
      " 5   Depth                              22152 non-null  float64\n",
      " 6   Width                              22152 non-null  float64\n",
      " 7   Tolerance                          22152 non-null  float64\n",
      " 8   Surface finish                     22152 non-null  float64\n",
      " 9   End Milling-Rough operation        22152 non-null  int64  \n",
      " 10  End Milling-Semi finish operation  22152 non-null  int64  \n",
      " 11  End Milling-Finish operation       22152 non-null  int64  \n",
      "dtypes: float64(7), int64(5)\n",
      "memory usage: 2.0 MB\n"
     ]
    }
   ],
   "source": [
    "data.info()"
   ]
  },
  {
   "cell_type": "code",
   "execution_count": 133,
   "metadata": {},
   "outputs": [],
   "source": [
    "# Trainig and testing split\n",
    "X = data.iloc[:, :-3].values  \n",
    "y = data.iloc[:, -3:].values  "
   ]
  },
  {
   "cell_type": "code",
   "execution_count": 134,
   "metadata": {},
   "outputs": [],
   "source": [
    "# Split the data\n",
    "X_train, X_test, y_train, y_test = train_test_split(X, y, test_size=0.2, random_state=42)"
   ]
  },
  {
   "cell_type": "code",
   "execution_count": 135,
   "metadata": {},
   "outputs": [
    {
     "data": {
      "text/plain": [
       "'# Scale the features\\nscaler = StandardScaler()\\nX_train = scaler.fit_transform(X_train)\\nX_test = scaler.transform(X_test)'"
      ]
     },
     "execution_count": 135,
     "metadata": {},
     "output_type": "execute_result"
    }
   ],
   "source": [
    "\"\"\"# Scale the features\n",
    "scaler = StandardScaler()\n",
    "X_train = scaler.fit_transform(X_train)\n",
    "X_test = scaler.transform(X_test)\"\"\""
   ]
  },
  {
   "cell_type": "code",
   "execution_count": 136,
   "metadata": {},
   "outputs": [
    {
     "name": "stdout",
     "output_type": "stream",
     "text": [
      "Decision Tree Accuracy: 1.0\n"
     ]
    }
   ],
   "source": [
    "# Model 1: Decision Tree without Noise\n",
    "dt_model = MultiOutputClassifier(DecisionTreeClassifier(random_state=42))\n",
    "dt_model.fit(X_train, y_train)\n",
    "dt_preds = dt_model.predict(X_test)\n",
    "dt_accuracy = accuracy_score(y_test, dt_preds)\n",
    "print(f\"Decision Tree Accuracy: {dt_accuracy}\")"
   ]
  },
  {
   "cell_type": "code",
   "execution_count": 137,
   "metadata": {},
   "outputs": [
    {
     "name": "stdout",
     "output_type": "stream",
     "text": [
      "Random Forest Accuracy: 0.9997743173098623\n"
     ]
    }
   ],
   "source": [
    "# Model 3: Random Forest without Noise\n",
    "rf_model = MultiOutputClassifier(RandomForestClassifier(random_state=42))\n",
    "rf_model.fit(X_train, y_train)\n",
    "rf_preds = rf_model.predict(X_test)\n",
    "rf_accuracy = accuracy_score(y_test, rf_preds)\n",
    "print(f\"Random Forest Accuracy: {rf_accuracy}\")"
   ]
  },
  {
   "cell_type": "code",
   "execution_count": 138,
   "metadata": {},
   "outputs": [
    {
     "name": "stdout",
     "output_type": "stream",
     "text": [
      "Cross-Validation Accuracy: 0.9997742822848446\n",
      "Test Accuracy: 1.0\n"
     ]
    }
   ],
   "source": [
    "# Random Forest with cross-validation\n",
    "rf_model = RandomForestClassifier(n_estimators=100, max_depth=10, random_state=42)\n",
    "cross_val_scores = cross_val_score(rf_model, X_train, y_train, cv=5, scoring='accuracy')\n",
    "print(f\"Cross-Validation Accuracy: {np.mean(cross_val_scores)}\")\n",
    "\n",
    "# Train the model\n",
    "rf_model.fit(X_train, y_train)\n",
    "\n",
    "# Predict on test data\n",
    "rf_preds = rf_model.predict(X_test)\n",
    "rf_accuracy = accuracy_score(y_test, rf_preds)\n",
    "print(f\"Test Accuracy: {rf_accuracy}\")"
   ]
  },
  {
   "cell_type": "code",
   "execution_count": 139,
   "metadata": {},
   "outputs": [],
   "source": [
    "# Add Gaussian noise to the features\n",
    "noise_factor = 0.0015\n",
    "X_noisy = X + noise_factor * np.random.normal(loc=0.0, scale=1.0, size=X.shape)"
   ]
  },
  {
   "cell_type": "code",
   "execution_count": 140,
   "metadata": {},
   "outputs": [],
   "source": [
    "# Split the data\n",
    "X_train, X_test, y_train, y_test = train_test_split(X_noisy, y, test_size=0.2, random_state=42)"
   ]
  },
  {
   "cell_type": "code",
   "execution_count": 141,
   "metadata": {},
   "outputs": [
    {
     "name": "stdout",
     "output_type": "stream",
     "text": [
      "Cross-Validation Accuracy: 0.8941930738935391\n"
     ]
    },
    {
     "data": {
      "text/html": [
       "<style>#sk-container-id-6 {color: black;}#sk-container-id-6 pre{padding: 0;}#sk-container-id-6 div.sk-toggleable {background-color: white;}#sk-container-id-6 label.sk-toggleable__label {cursor: pointer;display: block;width: 100%;margin-bottom: 0;padding: 0.3em;box-sizing: border-box;text-align: center;}#sk-container-id-6 label.sk-toggleable__label-arrow:before {content: \"▸\";float: left;margin-right: 0.25em;color: #696969;}#sk-container-id-6 label.sk-toggleable__label-arrow:hover:before {color: black;}#sk-container-id-6 div.sk-estimator:hover label.sk-toggleable__label-arrow:before {color: black;}#sk-container-id-6 div.sk-toggleable__content {max-height: 0;max-width: 0;overflow: hidden;text-align: left;background-color: #f0f8ff;}#sk-container-id-6 div.sk-toggleable__content pre {margin: 0.2em;color: black;border-radius: 0.25em;background-color: #f0f8ff;}#sk-container-id-6 input.sk-toggleable__control:checked~div.sk-toggleable__content {max-height: 200px;max-width: 100%;overflow: auto;}#sk-container-id-6 input.sk-toggleable__control:checked~label.sk-toggleable__label-arrow:before {content: \"▾\";}#sk-container-id-6 div.sk-estimator input.sk-toggleable__control:checked~label.sk-toggleable__label {background-color: #d4ebff;}#sk-container-id-6 div.sk-label input.sk-toggleable__control:checked~label.sk-toggleable__label {background-color: #d4ebff;}#sk-container-id-6 input.sk-hidden--visually {border: 0;clip: rect(1px 1px 1px 1px);clip: rect(1px, 1px, 1px, 1px);height: 1px;margin: -1px;overflow: hidden;padding: 0;position: absolute;width: 1px;}#sk-container-id-6 div.sk-estimator {font-family: monospace;background-color: #f0f8ff;border: 1px dotted black;border-radius: 0.25em;box-sizing: border-box;margin-bottom: 0.5em;}#sk-container-id-6 div.sk-estimator:hover {background-color: #d4ebff;}#sk-container-id-6 div.sk-parallel-item::after {content: \"\";width: 100%;border-bottom: 1px solid gray;flex-grow: 1;}#sk-container-id-6 div.sk-label:hover label.sk-toggleable__label {background-color: #d4ebff;}#sk-container-id-6 div.sk-serial::before {content: \"\";position: absolute;border-left: 1px solid gray;box-sizing: border-box;top: 0;bottom: 0;left: 50%;z-index: 0;}#sk-container-id-6 div.sk-serial {display: flex;flex-direction: column;align-items: center;background-color: white;padding-right: 0.2em;padding-left: 0.2em;position: relative;}#sk-container-id-6 div.sk-item {position: relative;z-index: 1;}#sk-container-id-6 div.sk-parallel {display: flex;align-items: stretch;justify-content: center;background-color: white;position: relative;}#sk-container-id-6 div.sk-item::before, #sk-container-id-6 div.sk-parallel-item::before {content: \"\";position: absolute;border-left: 1px solid gray;box-sizing: border-box;top: 0;bottom: 0;left: 50%;z-index: -1;}#sk-container-id-6 div.sk-parallel-item {display: flex;flex-direction: column;z-index: 1;position: relative;background-color: white;}#sk-container-id-6 div.sk-parallel-item:first-child::after {align-self: flex-end;width: 50%;}#sk-container-id-6 div.sk-parallel-item:last-child::after {align-self: flex-start;width: 50%;}#sk-container-id-6 div.sk-parallel-item:only-child::after {width: 0;}#sk-container-id-6 div.sk-dashed-wrapped {border: 1px dashed gray;margin: 0 0.4em 0.5em 0.4em;box-sizing: border-box;padding-bottom: 0.4em;background-color: white;}#sk-container-id-6 div.sk-label label {font-family: monospace;font-weight: bold;display: inline-block;line-height: 1.2em;}#sk-container-id-6 div.sk-label-container {text-align: center;}#sk-container-id-6 div.sk-container {/* jupyter's `normalize.less` sets `[hidden] { display: none; }` but bootstrap.min.css set `[hidden] { display: none !important; }` so we also need the `!important` here to be able to override the default hidden behavior on the sphinx rendered scikit-learn.org. See: https://github.com/scikit-learn/scikit-learn/issues/21755 */display: inline-block !important;position: relative;}#sk-container-id-6 div.sk-text-repr-fallback {display: none;}</style><div id=\"sk-container-id-6\" class=\"sk-top-container\"><div class=\"sk-text-repr-fallback\"><pre>RandomForestClassifier(max_depth=10, random_state=42)</pre><b>In a Jupyter environment, please rerun this cell to show the HTML representation or trust the notebook. <br />On GitHub, the HTML representation is unable to render, please try loading this page with nbviewer.org.</b></div><div class=\"sk-container\" hidden><div class=\"sk-item\"><div class=\"sk-estimator sk-toggleable\"><input class=\"sk-toggleable__control sk-hidden--visually\" id=\"sk-estimator-id-6\" type=\"checkbox\" checked><label for=\"sk-estimator-id-6\" class=\"sk-toggleable__label sk-toggleable__label-arrow\">RandomForestClassifier</label><div class=\"sk-toggleable__content\"><pre>RandomForestClassifier(max_depth=10, random_state=42)</pre></div></div></div></div></div>"
      ],
      "text/plain": [
       "RandomForestClassifier(max_depth=10, random_state=42)"
      ]
     },
     "execution_count": 141,
     "metadata": {},
     "output_type": "execute_result"
    }
   ],
   "source": [
    "# Random Forest with cross-validation\n",
    "model = RandomForestClassifier(n_estimators=100, max_depth=10, random_state=42)\n",
    "cross_val_scores = cross_val_score(model, X_train, y_train, cv=5, scoring='accuracy')\n",
    "print(f\"Cross-Validation Accuracy: {np.mean(cross_val_scores)}\")\n",
    "\n",
    "# Train the model\n",
    "model.fit(X_train, y_train)"
   ]
  },
  {
   "cell_type": "code",
   "execution_count": 142,
   "metadata": {},
   "outputs": [
    {
     "name": "stdout",
     "output_type": "stream",
     "text": [
      "Test Accuracy with Noise: 0.8977657413676371\n"
     ]
    }
   ],
   "source": [
    "# Predict on test data\n",
    "rf_preds = model.predict(X_test)\n",
    "rf_accuracy = accuracy_score(y_test, rf_preds)\n",
    "print(f\"Test Accuracy with Noise: {rf_accuracy}\")"
   ]
  },
  {
   "cell_type": "code",
   "execution_count": 143,
   "metadata": {},
   "outputs": [
    {
     "name": "stdout",
     "output_type": "stream",
     "text": [
      "XGBoost Accuracy: 0.8891897991424058\n"
     ]
    }
   ],
   "source": [
    "# Model 4: XGBoost\n",
    "xgb_model = MultiOutputClassifier(XGBClassifier(objective='binary:logistic', random_state=42))\n",
    "xgb_model.fit(X_train, y_train)\n",
    "xgb_preds = xgb_model.predict(X_test)\n",
    "xgb_accuracy = accuracy_score(y_test, xgb_preds)\n",
    "print(f\"XGBoost Accuracy: {xgb_accuracy}\")"
   ]
  },
  {
   "cell_type": "code",
   "execution_count": 144,
   "metadata": {},
   "outputs": [
    {
     "name": "stdout",
     "output_type": "stream",
     "text": [
      "Best XGBoost Accuracy after tuning: 0.9052132701421801\n"
     ]
    }
   ],
   "source": [
    "# Hyperparameter tuning for XGBoost\n",
    "param_grid = {\n",
    "    'estimator__n_estimators': [100, 200],\n",
    "    'estimator__learning_rate': [0.01, 0.1],\n",
    "    'estimator__max_depth': [3, 5]\n",
    "}\n",
    "\n",
    "grid_search = GridSearchCV(xgb_model, param_grid, cv=3, scoring='accuracy')\n",
    "grid_search.fit(X_train, y_train)\n",
    "best_model = grid_search.best_estimator_\n",
    "best_preds = best_model.predict(X_test)\n",
    "best_accuracy = accuracy_score(y_test, best_preds)\n",
    "print(f\"Best XGBoost Accuracy after tuning: {best_accuracy}\")"
   ]
  },
  {
   "cell_type": "code",
   "execution_count": 145,
   "metadata": {},
   "outputs": [],
   "source": [
    "# Convert to DMatrix for XGBoost\n",
    "dtrain = xgb.DMatrix(X_train, label=y_train)\n",
    "dtest = xgb.DMatrix(X_test, label=y_test)"
   ]
  },
  {
   "cell_type": "code",
   "execution_count": 146,
   "metadata": {},
   "outputs": [
    {
     "name": "stdout",
     "output_type": "stream",
     "text": [
      "[0]\teval-logloss:0.39350\ttrain-logloss:0.39346\n",
      "[1]\teval-logloss:0.34676\ttrain-logloss:0.34662\n",
      "[2]\teval-logloss:0.31033\ttrain-logloss:0.31006\n",
      "[3]\teval-logloss:0.28083\ttrain-logloss:0.28023\n",
      "[4]\teval-logloss:0.25621\ttrain-logloss:0.25541\n",
      "[5]\teval-logloss:0.23535\ttrain-logloss:0.23427\n",
      "[6]\teval-logloss:0.21751\ttrain-logloss:0.21612\n",
      "[7]\teval-logloss:0.20204\ttrain-logloss:0.20042\n",
      "[8]\teval-logloss:0.18858\ttrain-logloss:0.18667\n",
      "[9]\teval-logloss:0.17693\ttrain-logloss:0.17463\n",
      "[10]\teval-logloss:0.16663\ttrain-logloss:0.16404\n",
      "[11]\teval-logloss:0.15764\ttrain-logloss:0.15471\n",
      "[12]\teval-logloss:0.14961\ttrain-logloss:0.14643\n",
      "[13]\teval-logloss:0.14257\ttrain-logloss:0.13907\n",
      "[14]\teval-logloss:0.13626\ttrain-logloss:0.13254\n"
     ]
    },
    {
     "name": "stderr",
     "output_type": "stream",
     "text": [
      "c:\\Users\\Lenovo\\anaconda3\\Lib\\site-packages\\xgboost\\core.py:723: FutureWarning: Pass `evals` as keyword args.\n",
      "  warnings.warn(msg, FutureWarning)\n"
     ]
    },
    {
     "name": "stdout",
     "output_type": "stream",
     "text": [
      "[15]\teval-logloss:0.13072\ttrain-logloss:0.12672\n",
      "[16]\teval-logloss:0.12589\ttrain-logloss:0.12155\n",
      "[17]\teval-logloss:0.12158\ttrain-logloss:0.11690\n",
      "[18]\teval-logloss:0.11772\ttrain-logloss:0.11271\n",
      "[19]\teval-logloss:0.11428\ttrain-logloss:0.10895\n",
      "[20]\teval-logloss:0.11129\ttrain-logloss:0.10562\n",
      "[21]\teval-logloss:0.10861\ttrain-logloss:0.10258\n",
      "[22]\teval-logloss:0.10618\ttrain-logloss:0.09988\n",
      "[23]\teval-logloss:0.10399\ttrain-logloss:0.09744\n",
      "[24]\teval-logloss:0.10205\ttrain-logloss:0.09526\n",
      "[25]\teval-logloss:0.10041\ttrain-logloss:0.09322\n",
      "[26]\teval-logloss:0.09889\ttrain-logloss:0.09143\n",
      "[27]\teval-logloss:0.09755\ttrain-logloss:0.08982\n",
      "[28]\teval-logloss:0.09634\ttrain-logloss:0.08829\n",
      "[29]\teval-logloss:0.09528\ttrain-logloss:0.08697\n",
      "[30]\teval-logloss:0.09436\ttrain-logloss:0.08574\n",
      "[31]\teval-logloss:0.09361\ttrain-logloss:0.08453\n",
      "[32]\teval-logloss:0.09286\ttrain-logloss:0.08352\n",
      "[33]\teval-logloss:0.09217\ttrain-logloss:0.08258\n",
      "[34]\teval-logloss:0.09165\ttrain-logloss:0.08160\n",
      "[35]\teval-logloss:0.09116\ttrain-logloss:0.08086\n",
      "[36]\teval-logloss:0.09077\ttrain-logloss:0.08005\n",
      "[37]\teval-logloss:0.09032\ttrain-logloss:0.07931\n",
      "[38]\teval-logloss:0.08991\ttrain-logloss:0.07872\n",
      "[39]\teval-logloss:0.08956\ttrain-logloss:0.07825\n",
      "[40]\teval-logloss:0.08924\ttrain-logloss:0.07775\n",
      "[41]\teval-logloss:0.08904\ttrain-logloss:0.07728\n",
      "[42]\teval-logloss:0.08872\ttrain-logloss:0.07683\n",
      "[43]\teval-logloss:0.08854\ttrain-logloss:0.07643\n",
      "[44]\teval-logloss:0.08838\ttrain-logloss:0.07608\n",
      "[45]\teval-logloss:0.08823\ttrain-logloss:0.07571\n",
      "[46]\teval-logloss:0.08812\ttrain-logloss:0.07544\n",
      "[47]\teval-logloss:0.08806\ttrain-logloss:0.07520\n",
      "[48]\teval-logloss:0.08799\ttrain-logloss:0.07492\n",
      "[49]\teval-logloss:0.08794\ttrain-logloss:0.07461\n",
      "[50]\teval-logloss:0.08794\ttrain-logloss:0.07430\n",
      "[51]\teval-logloss:0.08793\ttrain-logloss:0.07401\n",
      "[52]\teval-logloss:0.08790\ttrain-logloss:0.07380\n",
      "[53]\teval-logloss:0.08791\ttrain-logloss:0.07352\n",
      "[54]\teval-logloss:0.08787\ttrain-logloss:0.07327\n",
      "[55]\teval-logloss:0.08780\ttrain-logloss:0.07294\n",
      "[56]\teval-logloss:0.08781\ttrain-logloss:0.07273\n",
      "[57]\teval-logloss:0.08777\ttrain-logloss:0.07251\n",
      "[58]\teval-logloss:0.08779\ttrain-logloss:0.07234\n",
      "[59]\teval-logloss:0.08779\ttrain-logloss:0.07185\n",
      "[60]\teval-logloss:0.08773\ttrain-logloss:0.07150\n",
      "[61]\teval-logloss:0.08772\ttrain-logloss:0.07134\n",
      "[62]\teval-logloss:0.08774\ttrain-logloss:0.07107\n",
      "[63]\teval-logloss:0.08778\ttrain-logloss:0.07091\n",
      "[64]\teval-logloss:0.08785\ttrain-logloss:0.07050\n",
      "[65]\teval-logloss:0.08785\ttrain-logloss:0.07025\n",
      "[66]\teval-logloss:0.08792\ttrain-logloss:0.07006\n",
      "[67]\teval-logloss:0.08795\ttrain-logloss:0.06977\n",
      "[68]\teval-logloss:0.08792\ttrain-logloss:0.06962\n",
      "[69]\teval-logloss:0.08796\ttrain-logloss:0.06935\n",
      "[70]\teval-logloss:0.08791\ttrain-logloss:0.06906\n",
      "[71]\teval-logloss:0.08794\ttrain-logloss:0.06880\n",
      "[72]\teval-logloss:0.08802\ttrain-logloss:0.06852\n",
      "[73]\teval-logloss:0.08801\ttrain-logloss:0.06845\n",
      "[74]\teval-logloss:0.08805\ttrain-logloss:0.06825\n",
      "[75]\teval-logloss:0.08814\ttrain-logloss:0.06802\n",
      "[76]\teval-logloss:0.08817\ttrain-logloss:0.06779\n",
      "[77]\teval-logloss:0.08825\ttrain-logloss:0.06754\n",
      "[78]\teval-logloss:0.08831\ttrain-logloss:0.06730\n",
      "[79]\teval-logloss:0.08829\ttrain-logloss:0.06708\n",
      "[80]\teval-logloss:0.08828\ttrain-logloss:0.06690\n",
      "[81]\teval-logloss:0.08831\ttrain-logloss:0.06675\n",
      "[82]\teval-logloss:0.08832\ttrain-logloss:0.06654\n",
      "[83]\teval-logloss:0.08841\ttrain-logloss:0.06643\n",
      "[84]\teval-logloss:0.08850\ttrain-logloss:0.06610\n",
      "[85]\teval-logloss:0.08853\ttrain-logloss:0.06594\n",
      "[86]\teval-logloss:0.08856\ttrain-logloss:0.06581\n",
      "[87]\teval-logloss:0.08861\ttrain-logloss:0.06567\n",
      "[88]\teval-logloss:0.08867\ttrain-logloss:0.06549\n",
      "[89]\teval-logloss:0.08863\ttrain-logloss:0.06537\n",
      "[90]\teval-logloss:0.08865\ttrain-logloss:0.06517\n",
      "[91]\teval-logloss:0.08867\ttrain-logloss:0.06494\n",
      "[92]\teval-logloss:0.08873\ttrain-logloss:0.06462\n",
      "[93]\teval-logloss:0.08881\ttrain-logloss:0.06441\n",
      "[94]\teval-logloss:0.08885\ttrain-logloss:0.06424\n",
      "[95]\teval-logloss:0.08886\ttrain-logloss:0.06406\n",
      "[96]\teval-logloss:0.08888\ttrain-logloss:0.06399\n",
      "[97]\teval-logloss:0.08895\ttrain-logloss:0.06365\n",
      "[98]\teval-logloss:0.08900\ttrain-logloss:0.06337\n",
      "[99]\teval-logloss:0.08906\ttrain-logloss:0.06310\n",
      "Test Accuracy: 0.8950575490859851\n"
     ]
    }
   ],
   "source": [
    "# Parameters for XGBoost\n",
    "params = {\n",
    "    'objective': 'binary:logistic',\n",
    "    'max_depth': 6,\n",
    "    'eta': 0.1,\n",
    "    'eval_metric': 'logloss'\n",
    "}\n",
    "\n",
    "# Train with early stopping\n",
    "evallist = [(dtest, 'eval'), (dtrain, 'train')]\n",
    "num_round = 100\n",
    "bst = xgb.train(params, dtrain, num_round, evallist, early_stopping_rounds=10)\n",
    "\n",
    "# Predict on test data\n",
    "xgb_preds = bst.predict(dtest)\n",
    "xgb_preds = (xgb_preds > 0.5).astype(int)\n",
    "xgb_accuracy = accuracy_score(y_test, xgb_preds)\n",
    "print(f\"Test Accuracy: {xgb_accuracy}\")"
   ]
  },
  {
   "cell_type": "code",
   "execution_count": 147,
   "metadata": {},
   "outputs": [],
   "source": [
    "import pickle\n",
    "# Save the Model\n",
    "with open('../Saved Model/Slot.pkl', 'wb') as file:\n",
    "    pickle.dump(rf_model, file)"
   ]
  },
  {
   "cell_type": "code",
   "execution_count": 89,
   "metadata": {},
   "outputs": [],
   "source": [
    "# Load the saved model\n",
    "with open('../Saved_Model/pocket.pkl', 'rb') as file:\n",
    "    loaded_model = pickle.load(file)"
   ]
  },
  {
   "cell_type": "code",
   "execution_count": 28,
   "metadata": {},
   "outputs": [],
   "source": [
    "input_data = {}\n",
    "\n",
    "\"\"\"\n",
    "BOSS:\n",
    "input_data['Material Type'] = input(\"Material Type (1, 2, or 3): \")\n",
    "input_data['Material Hardness Number'] = float(input(\"Material Hardness Number: \"))\n",
    "input_data['Desity'] = float(input(\"Desity: \"))\n",
    "input_data['Poissons Ratio'] = float(input(\"Poissons Ratio: \"))\n",
    "input_data['Length'] = float(input(\"Length: \"))\n",
    "input_data['Diameter'] = float(input(\"Diameter: \"))\n",
    "input_data['Tolerance'] = float(input(\"Tolerance: \"))\n",
    "input_data['Surface finish'] = float(input(\"Surface finish: \"))\"\"\"\n",
    "\n",
    "\"\"\"\n",
    "CHAMFER:\n",
    "input_data['Material Type'] = input(\"Material Type (1, 2, or 3): \")\n",
    "input_data['Material Hardness Number'] = float(input(\"Material Hardness Number: \"))\n",
    "input_data['Desity'] = float(input(\"Desity: \"))\n",
    "input_data['Poissons Ratio'] = float(input(\"Poissons Ratio: \"))\n",
    "input_data['Radius'] = float(input(\"Radius: \"))\n",
    "input_data['Tolerance'] = float(input(\"Tolerance: \"))\n",
    "input_data['Surface finish'] = float(input(\"Surface finish: \"))\"\"\"\n",
    "\n",
    "\n",
    "\"\"\"input_data['Material Type'] = input(\"Material Type (1, 2, or 3): \")\n",
    "input_data['Material Hardness Number'] = float(input(\"Material Hardness Number: \"))\n",
    "input_data['Desity'] = float(input(\"Desity: \"))\n",
    "input_data['Poissons Ratio'] = float(input(\"Poissons Ratio: \"))\n",
    "input_data['Radius'] = float(input(\"Radius: \"))\n",
    "input_data['Tolerance'] = float(input(\"Tolerance: \"))\n",
    "input_data['Surface finish'] = float(input(\"Surface finish: \"))\"\"\"\n",
    "\n"
   ]
  },
  {
   "cell_type": "code",
   "execution_count": 29,
   "metadata": {},
   "outputs": [],
   "source": [
    "# Convert the input data to a DataFrame\n",
    "input_data = pd.DataFrame([input_data])"
   ]
  },
  {
   "cell_type": "code",
   "execution_count": 30,
   "metadata": {},
   "outputs": [
    {
     "name": "stderr",
     "output_type": "stream",
     "text": [
      "c:\\Users\\Lenovo\\anaconda3\\Lib\\site-packages\\sklearn\\base.py:457: UserWarning: X has feature names, but RandomForestClassifier was fitted without feature names\n",
      "  warnings.warn(\n"
     ]
    }
   ],
   "source": [
    "# Make predictions on the manually input data\n",
    "predictions = loaded_model.predict(input_data)"
   ]
  },
  {
   "cell_type": "code",
   "execution_count": 31,
   "metadata": {},
   "outputs": [],
   "source": [
    "predictions_df = pd.DataFrame(predictions, columns=['End Milling-Rough operation', 'End Milling-Semi finish operation', 'End Milling-Finish operation'])"
   ]
  },
  {
   "cell_type": "code",
   "execution_count": 32,
   "metadata": {},
   "outputs": [
    {
     "name": "stdout",
     "output_type": "stream",
     "text": [
      "Predictions for the manually input data:\n",
      "   End Milling-Rough operation  End Milling-Semi finish operation  \\\n",
      "0                            1                                  0   \n",
      "\n",
      "   End Milling-Finish operation  \n",
      "0                             0  \n"
     ]
    }
   ],
   "source": [
    "# Display the predictions\n",
    "print(\"Predictions for the manually input data:\")\n",
    "print(predictions_df)"
   ]
  },
  {
   "cell_type": "code",
   "execution_count": null,
   "metadata": {},
   "outputs": [],
   "source": []
  },
  {
   "cell_type": "code",
   "execution_count": null,
   "metadata": {},
   "outputs": [],
   "source": []
  }
 ],
 "metadata": {
  "kernelspec": {
   "display_name": "base",
   "language": "python",
   "name": "python3"
  },
  "language_info": {
   "codemirror_mode": {
    "name": "ipython",
    "version": 3
   },
   "file_extension": ".py",
   "mimetype": "text/x-python",
   "name": "python",
   "nbconvert_exporter": "python",
   "pygments_lexer": "ipython3",
   "version": "3.11.5"
  }
 },
 "nbformat": 4,
 "nbformat_minor": 2
}
